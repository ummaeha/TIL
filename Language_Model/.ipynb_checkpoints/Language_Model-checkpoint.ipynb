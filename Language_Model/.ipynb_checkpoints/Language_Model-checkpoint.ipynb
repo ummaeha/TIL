{
 "cells": [
  {
   "cell_type": "code",
   "execution_count": 1,
   "metadata": {},
   "outputs": [],
   "source": [
    "# 언어 모델(Language Model, LM)은 언어라는 현상을 모델링하고자 단어 시퀀스(또는 문장)에 확률을 할당(assign)하는 모델 \n",
    "# 문장의 적절성을 기계가 판단\n",
    "# 방법 1: 통계에 기반한 전통적인 언어 모델(Statistical Languagel Model, SLM) ex, 통계기반 언어 모델 n-gram \n",
    "# 방법 2: 인공 신경망 ex. GPT, BERT\n",
    "\n",
    "# 단어 시퀀스에 확률을 할당하기 위한 2가지 보편적 방법\n",
    "# - 이전 단어들이 주어졌을 때 다음 단어를 예측하도록 하는 것\n",
    "# - 주어진 양쪽의 단어들로부터 가운데 비어있는 단어를 예측하는 언어 모델"
   ]
  },
  {
   "cell_type": "code",
   "execution_count": 1,
   "metadata": {},
   "outputs": [],
   "source": [
    "# 1. 통계적 언어 모델(Statistical Language Model, SLM)\n",
    "# 언어 모델: 가장 자연스러운 단어 시퀀스를 찾아내는 모델\n",
    "# 언어 모델링: 주어진 단어들로부터 아직 모르는 단어를 예측하는 작업\n",
    "\n",
    "# - 이전 단어들이 주어졌을 때 다음 단어를 예측하도록 하는 것\n",
    "# 조건부 확률 P(wn|w1,...,wn−1)\n",
    "\n",
    "# 희소문제"
   ]
  },
  {
   "cell_type": "code",
   "execution_count": 2,
   "metadata": {},
   "outputs": [],
   "source": [
    "# n-gram 언어 모델\n",
    "# SLM의 한계는 훈련코퍼스에 확률을 계산하고 싶은 문장이나 단어가 없을 수 있음.\n",
    "\n",
    "# 1. 코퍼스에서 카운트 하지 못하는 경우의 감소.\n",
    "# :참고하는 단어들을 줄임으로써 문제를 해결하고자 하는 것 -> ex, An adorable little boy 다음에 is 가 나오는 것 [vs] boy 다음에 is 가 나오는 것\n",
    "\n",
    "# 2. n-gram\n",
    "# : 몇 개(N개)의 단어를 참고하느냐, 그 임의의 개수를 정하기 위한 기준을 위해 사용되는 것이 n-gram\n",
    "# ex, unigram(1), bigram(2), trigram(3), 4-gram(4)\n",
    "\n",
    "# 3. n-gram lanfuage model의 한계\n",
    "# 희소문제, n에대한 trade-off(훈련 코퍼스의 카운트<->정확성, perplexity가 낮을수록 좋은 성능)\n",
    "\n",
    "# 4. 적용분야에 맞는 코퍼스 수집\n",
    "\n",
    "# 5. 인공신경망을 이용한 언어 모델(Neural Network Based Language Model) -> chapter 8"
   ]
  },
  {
   "cell_type": "code",
   "execution_count": null,
   "metadata": {},
   "outputs": [],
   "source": []
  }
 ],
 "metadata": {
  "kernelspec": {
   "display_name": "Python 3",
   "language": "python",
   "name": "python3"
  },
  "language_info": {
   "codemirror_mode": {
    "name": "ipython",
    "version": 3
   },
   "file_extension": ".py",
   "mimetype": "text/x-python",
   "name": "python",
   "nbconvert_exporter": "python",
   "pygments_lexer": "ipython3",
   "version": "3.8.5"
  }
 },
 "nbformat": 4,
 "nbformat_minor": 4
}
